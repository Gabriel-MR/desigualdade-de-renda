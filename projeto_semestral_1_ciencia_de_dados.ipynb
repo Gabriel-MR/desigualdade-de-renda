{
  "nbformat": 4,
  "nbformat_minor": 0,
  "metadata": {
    "colab": {
      "provenance": [],
      "collapsed_sections": [
        "nnGodG5PEW0z",
        "KPDi-5K4vICT",
        "g_4bAn-GEanz",
        "V5-Kg7cMEtiB",
        "IXAHfR-UFRqY",
        "JSpwHyuy4Rxp",
        "1Kq7XSKWvumq",
        "EmRAaqCQwOPh",
        "PtMKD6rOsX5B",
        "X1TwXxXI_T1h",
        "xXeSPoBO_Mx9",
        "5wloIJAs_Yjl",
        "9afv5X5N_aEu",
        "UDtS-KBv_eQK",
        "MX6Gl5Ax_gWS",
        "SXVYPdFc_l_O",
        "-WzZpJhI_rJ7",
        "3145D9uH_rKH",
        "pEDYeSem_rKH",
        "_rLqQs3z_rKH",
        "cu5ZJWAd_rKI",
        "Q7ElUv_z_nXO",
        "mrozwdUZ_5Ix",
        "qgbdHJD8_5I8",
        "EVqLzxgb_5I8",
        "E8R-eL0k_5I9",
        "V0f0p8TN_5I9",
        "l_dH-4NeFKg2",
        "cMex-DR1CuXH",
        "FKTngBQ0uPHU",
        "p-J8l6AkzaCr",
        "XuTl74HrvEUC"
      ],
      "toc_visible": true,
      "mount_file_id": "11FwX3KfFzOVbD9_a1_ZGuu6wM0kTiL2D",
      "authorship_tag": "ABX9TyOKnanFw/KX3Wryof9JN6lx",
      "include_colab_link": true
    },
    "kernelspec": {
      "name": "python3",
      "display_name": "Python 3"
    },
    "language_info": {
      "name": "python"
    }
  },
  "cells": [
    {
      "cell_type": "markdown",
      "metadata": {
        "id": "view-in-github",
        "colab_type": "text"
      },
      "source": [
        "<a href=\"https://colab.research.google.com/github/Gabriel-MR/desigualdade-de-renda/blob/main/projeto_semestral_1_ciencia_de_dados.ipynb\" target=\"_parent\"><img src=\"https://colab.research.google.com/assets/colab-badge.svg\" alt=\"Open In Colab\"/></a>"
      ]
    },
    {
      "cell_type": "markdown",
      "source": [
        "# Projeto ciência de dados - Desigualdade de renda"
      ],
      "metadata": {
        "id": "nnGodG5PEW0z"
      }
    },
    {
      "cell_type": "markdown",
      "source": [
        "GitHub do projeto (preferencialmente como organização) constando minimamente:\n",
        "\n",
        "- readme do projeto\n",
        "\n",
        "- Notebooks python do projeto, com .ipynb 100% executáveis com a aquisição, preparação e todas as análises desenvolvidas. Os notebooks devem ser contruídos na forma de um Relatório tendo, além dos códigos,\n",
        "\n",
        "- uma Descrição dos Procedimentos e Resultados.\n",
        "\n",
        "- Datafólio de resultados\n",
        "\n",
        "- Dados originais empregados (ou links de acesso) e dados intermediários produzidos. Os notebooks devem acessar os dados e executarem sem a necessidade de procedimentos externos (como download ou upload de dados pelo usuário)\n",
        "\n",
        "- Referências\n",
        "\n",
        "- Link para o vídeos (se houverem) da apresentação técnica e do datafólio."
      ],
      "metadata": {
        "id": "HtUce-_kELc-"
      }
    },
    {
      "cell_type": "markdown",
      "source": [
        "## Extraindo os dados"
      ],
      "metadata": {
        "id": "KPDi-5K4vICT"
      }
    },
    {
      "cell_type": "markdown",
      "source": [
        "### Importando bibliotecas"
      ],
      "metadata": {
        "id": "g_4bAn-GEanz"
      }
    },
    {
      "cell_type": "code",
      "execution_count": 145,
      "metadata": {
        "id": "-Bz-Bm91D1zh"
      },
      "outputs": [],
      "source": [
        "# https://wid.world/data/\n",
        "import pandas as pd\n",
        "import numpy as np\n",
        "import matplotlib.pyplot as plt\n"
      ]
    },
    {
      "cell_type": "markdown",
      "source": [
        "### Carregando os dados em DataFrame"
      ],
      "metadata": {
        "id": "V5-Kg7cMEtiB"
      }
    },
    {
      "cell_type": "code",
      "source": [
        "'''\n",
        "Estamos considerando\n",
        "indicadores: Pall, P0p50, P50p90, P90p100, P99p100\n",
        "Países: Brasil, EUA, China\n",
        "'''\n",
        "# Carregar dados da base do wid worlf data\n",
        "df = pd.read_csv('https://raw.githubusercontent.com/Gabriel-MR/ciencia-de-dados/main/WID_Data_08052023-120436.csv', \n",
        "                 engine='python')\n",
        "df.head()\n"
      ],
      "metadata": {
        "id": "8wK6LNxREvMR",
        "colab": {
          "base_uri": "https://localhost:8080/",
          "height": 0
        },
        "outputId": "99ee31b3-d197-497b-9659-1d7a5edeaf1b"
      },
      "execution_count": 146,
      "outputs": [
        {
          "output_type": "execute_result",
          "data": {
            "text/plain": [
              "  Country             Indicator Percentile  Year       Value\n",
              "0  Brazil  gptinc_pall_992_j_BR       pall  1913  Unnamed: 4\n",
              "1  Brazil  gptinc_pall_992_j_BR       pall  1914         NaN\n",
              "2  Brazil  gptinc_pall_992_j_BR       pall  1915         NaN\n",
              "3  Brazil  gptinc_pall_992_j_BR       pall  1916         NaN\n",
              "4  Brazil  gptinc_pall_992_j_BR       pall  1917         NaN"
            ],
            "text/html": [
              "\n",
              "  <div id=\"df-682ba0f3-85df-4002-9678-30d640126a30\">\n",
              "    <div class=\"colab-df-container\">\n",
              "      <div>\n",
              "<style scoped>\n",
              "    .dataframe tbody tr th:only-of-type {\n",
              "        vertical-align: middle;\n",
              "    }\n",
              "\n",
              "    .dataframe tbody tr th {\n",
              "        vertical-align: top;\n",
              "    }\n",
              "\n",
              "    .dataframe thead th {\n",
              "        text-align: right;\n",
              "    }\n",
              "</style>\n",
              "<table border=\"1\" class=\"dataframe\">\n",
              "  <thead>\n",
              "    <tr style=\"text-align: right;\">\n",
              "      <th></th>\n",
              "      <th>Country</th>\n",
              "      <th>Indicator</th>\n",
              "      <th>Percentile</th>\n",
              "      <th>Year</th>\n",
              "      <th>Value</th>\n",
              "    </tr>\n",
              "  </thead>\n",
              "  <tbody>\n",
              "    <tr>\n",
              "      <th>0</th>\n",
              "      <td>Brazil</td>\n",
              "      <td>gptinc_pall_992_j_BR</td>\n",
              "      <td>pall</td>\n",
              "      <td>1913</td>\n",
              "      <td>Unnamed: 4</td>\n",
              "    </tr>\n",
              "    <tr>\n",
              "      <th>1</th>\n",
              "      <td>Brazil</td>\n",
              "      <td>gptinc_pall_992_j_BR</td>\n",
              "      <td>pall</td>\n",
              "      <td>1914</td>\n",
              "      <td>NaN</td>\n",
              "    </tr>\n",
              "    <tr>\n",
              "      <th>2</th>\n",
              "      <td>Brazil</td>\n",
              "      <td>gptinc_pall_992_j_BR</td>\n",
              "      <td>pall</td>\n",
              "      <td>1915</td>\n",
              "      <td>NaN</td>\n",
              "    </tr>\n",
              "    <tr>\n",
              "      <th>3</th>\n",
              "      <td>Brazil</td>\n",
              "      <td>gptinc_pall_992_j_BR</td>\n",
              "      <td>pall</td>\n",
              "      <td>1916</td>\n",
              "      <td>NaN</td>\n",
              "    </tr>\n",
              "    <tr>\n",
              "      <th>4</th>\n",
              "      <td>Brazil</td>\n",
              "      <td>gptinc_pall_992_j_BR</td>\n",
              "      <td>pall</td>\n",
              "      <td>1917</td>\n",
              "      <td>NaN</td>\n",
              "    </tr>\n",
              "  </tbody>\n",
              "</table>\n",
              "</div>\n",
              "      <button class=\"colab-df-convert\" onclick=\"convertToInteractive('df-682ba0f3-85df-4002-9678-30d640126a30')\"\n",
              "              title=\"Convert this dataframe to an interactive table.\"\n",
              "              style=\"display:none;\">\n",
              "        \n",
              "  <svg xmlns=\"http://www.w3.org/2000/svg\" height=\"24px\"viewBox=\"0 0 24 24\"\n",
              "       width=\"24px\">\n",
              "    <path d=\"M0 0h24v24H0V0z\" fill=\"none\"/>\n",
              "    <path d=\"M18.56 5.44l.94 2.06.94-2.06 2.06-.94-2.06-.94-.94-2.06-.94 2.06-2.06.94zm-11 1L8.5 8.5l.94-2.06 2.06-.94-2.06-.94L8.5 2.5l-.94 2.06-2.06.94zm10 10l.94 2.06.94-2.06 2.06-.94-2.06-.94-.94-2.06-.94 2.06-2.06.94z\"/><path d=\"M17.41 7.96l-1.37-1.37c-.4-.4-.92-.59-1.43-.59-.52 0-1.04.2-1.43.59L10.3 9.45l-7.72 7.72c-.78.78-.78 2.05 0 2.83L4 21.41c.39.39.9.59 1.41.59.51 0 1.02-.2 1.41-.59l7.78-7.78 2.81-2.81c.8-.78.8-2.07 0-2.86zM5.41 20L4 18.59l7.72-7.72 1.47 1.35L5.41 20z\"/>\n",
              "  </svg>\n",
              "      </button>\n",
              "      \n",
              "  <style>\n",
              "    .colab-df-container {\n",
              "      display:flex;\n",
              "      flex-wrap:wrap;\n",
              "      gap: 12px;\n",
              "    }\n",
              "\n",
              "    .colab-df-convert {\n",
              "      background-color: #E8F0FE;\n",
              "      border: none;\n",
              "      border-radius: 50%;\n",
              "      cursor: pointer;\n",
              "      display: none;\n",
              "      fill: #1967D2;\n",
              "      height: 32px;\n",
              "      padding: 0 0 0 0;\n",
              "      width: 32px;\n",
              "    }\n",
              "\n",
              "    .colab-df-convert:hover {\n",
              "      background-color: #E2EBFA;\n",
              "      box-shadow: 0px 1px 2px rgba(60, 64, 67, 0.3), 0px 1px 3px 1px rgba(60, 64, 67, 0.15);\n",
              "      fill: #174EA6;\n",
              "    }\n",
              "\n",
              "    [theme=dark] .colab-df-convert {\n",
              "      background-color: #3B4455;\n",
              "      fill: #D2E3FC;\n",
              "    }\n",
              "\n",
              "    [theme=dark] .colab-df-convert:hover {\n",
              "      background-color: #434B5C;\n",
              "      box-shadow: 0px 1px 3px 1px rgba(0, 0, 0, 0.15);\n",
              "      filter: drop-shadow(0px 1px 2px rgba(0, 0, 0, 0.3));\n",
              "      fill: #FFFFFF;\n",
              "    }\n",
              "  </style>\n",
              "\n",
              "      <script>\n",
              "        const buttonEl =\n",
              "          document.querySelector('#df-682ba0f3-85df-4002-9678-30d640126a30 button.colab-df-convert');\n",
              "        buttonEl.style.display =\n",
              "          google.colab.kernel.accessAllowed ? 'block' : 'none';\n",
              "\n",
              "        async function convertToInteractive(key) {\n",
              "          const element = document.querySelector('#df-682ba0f3-85df-4002-9678-30d640126a30');\n",
              "          const dataTable =\n",
              "            await google.colab.kernel.invokeFunction('convertToInteractive',\n",
              "                                                     [key], {});\n",
              "          if (!dataTable) return;\n",
              "\n",
              "          const docLinkHtml = 'Like what you see? Visit the ' +\n",
              "            '<a target=\"_blank\" href=https://colab.research.google.com/notebooks/data_table.ipynb>data table notebook</a>'\n",
              "            + ' to learn more about interactive tables.';\n",
              "          element.innerHTML = '';\n",
              "          dataTable['output_type'] = 'display_data';\n",
              "          await google.colab.output.renderOutput(dataTable, element);\n",
              "          const docLink = document.createElement('div');\n",
              "          docLink.innerHTML = docLinkHtml;\n",
              "          element.appendChild(docLink);\n",
              "        }\n",
              "      </script>\n",
              "    </div>\n",
              "  </div>\n",
              "  "
            ]
          },
          "metadata": {},
          "execution_count": 146
        }
      ]
    },
    {
      "cell_type": "code",
      "source": [
        "df.shape\n"
      ],
      "metadata": {
        "colab": {
          "base_uri": "https://localhost:8080/"
        },
        "id": "UU1uYm7j6kIb",
        "outputId": "4b2b76a6-0afc-4e99-beb3-6183a871c21e"
      },
      "execution_count": 147,
      "outputs": [
        {
          "output_type": "execute_result",
          "data": {
            "text/plain": [
              "(1635, 5)"
            ]
          },
          "metadata": {},
          "execution_count": 147
        }
      ]
    },
    {
      "cell_type": "code",
      "source": [
        "# Carregando os metadatas com a explicação de cada indicador\n",
        "df_metadata = pd.read_csv('https://raw.githubusercontent.com/Gabriel-MR/ciencia-de-dados/main/WID_Metadata_08052023-120436.csv', \n",
        "                 skiprows=1, sep=';', engine='python')\n",
        "df_metadata.head()\n"
      ],
      "metadata": {
        "colab": {
          "base_uri": "https://localhost:8080/",
          "height": 0
        },
        "id": "nJ3Q__dm0B4H",
        "outputId": "d07af8cf-6685-498f-c51b-27f4b5e7815c"
      },
      "execution_count": 148,
      "outputs": [
        {
          "output_type": "execute_result",
          "data": {
            "text/plain": [
              "  Country Code Country Name WID Variable code Percentile group   Unit  \\\n",
              "0           BR       Brazil        gptinc992j           p0p100    NaN   \n",
              "1           BR       Brazil        sptinc992j            p0p50  share   \n",
              "2           BR       Brazil        sptinc992j           p50p90  share   \n",
              "3           BR       Brazil        sptinc992j          p90p100  share   \n",
              "4           BR       Brazil        sptinc992j          p99p100  share   \n",
              "\n",
              "                                       Variable name  \\\n",
              "0  Pre-tax national income. Gini coefficient Adul...   \n",
              "1  Pre-tax national income. Share Adults. equal-s...   \n",
              "2  Pre-tax national income. Share Adults. equal-s...   \n",
              "3  Pre-tax national income. Share Adults. equal-s...   \n",
              "4  Pre-tax national income. Share Adults. equal-s...   \n",
              "\n",
              "                               Intuitive description  \\\n",
              "0                                                NaN   \n",
              "1  Pre-tax national income share held by the p0p5...   \n",
              "2  Pre-tax national income share held by the p50p...   \n",
              "3  Pre-tax national income share held by the p90p...   \n",
              "4  Pre-tax national income share held by the p99p...   \n",
              "\n",
              "                               Technical description  Methodological Notes  \\\n",
              "0  Pre-tax national income =Pre-tax labor income ...                   NaN   \n",
              "1  Pre-tax national income =Pre-tax labor income ...                   NaN   \n",
              "2  Pre-tax national income =Pre-tax labor income ...                   NaN   \n",
              "3  Pre-tax national income =Pre-tax labor income ...                   NaN   \n",
              "4  Pre-tax national income =Pre-tax labor income ...                   NaN   \n",
              "\n",
              "                                             Sources  \\\n",
              "0  After 2001, [URL][URL_LINK]http://wordpress.wi...   \n",
              "1  After 2001, [URL][URL_LINK]http://wordpress.wi...   \n",
              "2  After 2001, [URL][URL_LINK]http://wordpress.wi...   \n",
              "3  After 2001, [URL][URL_LINK]http://wordpress.wi...   \n",
              "4  After 2001, [URL][URL_LINK]http://wordpress.wi...   \n",
              "\n",
              "                 Extrapolations  Data points  \n",
              "0  [[1820, 2000], [2020, 2021]]          NaN  \n",
              "1  [[1820, 2000], [2020, 2021]]          NaN  \n",
              "2  [[1820, 2000], [2020, 2021]]          NaN  \n",
              "3  [[1820, 2000], [2020, 2021]]          NaN  \n",
              "4  [[1820, 2000], [2020, 2021]]          NaN  "
            ],
            "text/html": [
              "\n",
              "  <div id=\"df-c36bae79-b7ab-4047-b31e-09737694ff52\">\n",
              "    <div class=\"colab-df-container\">\n",
              "      <div>\n",
              "<style scoped>\n",
              "    .dataframe tbody tr th:only-of-type {\n",
              "        vertical-align: middle;\n",
              "    }\n",
              "\n",
              "    .dataframe tbody tr th {\n",
              "        vertical-align: top;\n",
              "    }\n",
              "\n",
              "    .dataframe thead th {\n",
              "        text-align: right;\n",
              "    }\n",
              "</style>\n",
              "<table border=\"1\" class=\"dataframe\">\n",
              "  <thead>\n",
              "    <tr style=\"text-align: right;\">\n",
              "      <th></th>\n",
              "      <th>Country Code</th>\n",
              "      <th>Country Name</th>\n",
              "      <th>WID Variable code</th>\n",
              "      <th>Percentile group</th>\n",
              "      <th>Unit</th>\n",
              "      <th>Variable name</th>\n",
              "      <th>Intuitive description</th>\n",
              "      <th>Technical description</th>\n",
              "      <th>Methodological Notes</th>\n",
              "      <th>Sources</th>\n",
              "      <th>Extrapolations</th>\n",
              "      <th>Data points</th>\n",
              "    </tr>\n",
              "  </thead>\n",
              "  <tbody>\n",
              "    <tr>\n",
              "      <th>0</th>\n",
              "      <td>BR</td>\n",
              "      <td>Brazil</td>\n",
              "      <td>gptinc992j</td>\n",
              "      <td>p0p100</td>\n",
              "      <td>NaN</td>\n",
              "      <td>Pre-tax national income. Gini coefficient Adul...</td>\n",
              "      <td>NaN</td>\n",
              "      <td>Pre-tax national income =Pre-tax labor income ...</td>\n",
              "      <td>NaN</td>\n",
              "      <td>After 2001, [URL][URL_LINK]http://wordpress.wi...</td>\n",
              "      <td>[[1820, 2000], [2020, 2021]]</td>\n",
              "      <td>NaN</td>\n",
              "    </tr>\n",
              "    <tr>\n",
              "      <th>1</th>\n",
              "      <td>BR</td>\n",
              "      <td>Brazil</td>\n",
              "      <td>sptinc992j</td>\n",
              "      <td>p0p50</td>\n",
              "      <td>share</td>\n",
              "      <td>Pre-tax national income. Share Adults. equal-s...</td>\n",
              "      <td>Pre-tax national income share held by the p0p5...</td>\n",
              "      <td>Pre-tax national income =Pre-tax labor income ...</td>\n",
              "      <td>NaN</td>\n",
              "      <td>After 2001, [URL][URL_LINK]http://wordpress.wi...</td>\n",
              "      <td>[[1820, 2000], [2020, 2021]]</td>\n",
              "      <td>NaN</td>\n",
              "    </tr>\n",
              "    <tr>\n",
              "      <th>2</th>\n",
              "      <td>BR</td>\n",
              "      <td>Brazil</td>\n",
              "      <td>sptinc992j</td>\n",
              "      <td>p50p90</td>\n",
              "      <td>share</td>\n",
              "      <td>Pre-tax national income. Share Adults. equal-s...</td>\n",
              "      <td>Pre-tax national income share held by the p50p...</td>\n",
              "      <td>Pre-tax national income =Pre-tax labor income ...</td>\n",
              "      <td>NaN</td>\n",
              "      <td>After 2001, [URL][URL_LINK]http://wordpress.wi...</td>\n",
              "      <td>[[1820, 2000], [2020, 2021]]</td>\n",
              "      <td>NaN</td>\n",
              "    </tr>\n",
              "    <tr>\n",
              "      <th>3</th>\n",
              "      <td>BR</td>\n",
              "      <td>Brazil</td>\n",
              "      <td>sptinc992j</td>\n",
              "      <td>p90p100</td>\n",
              "      <td>share</td>\n",
              "      <td>Pre-tax national income. Share Adults. equal-s...</td>\n",
              "      <td>Pre-tax national income share held by the p90p...</td>\n",
              "      <td>Pre-tax national income =Pre-tax labor income ...</td>\n",
              "      <td>NaN</td>\n",
              "      <td>After 2001, [URL][URL_LINK]http://wordpress.wi...</td>\n",
              "      <td>[[1820, 2000], [2020, 2021]]</td>\n",
              "      <td>NaN</td>\n",
              "    </tr>\n",
              "    <tr>\n",
              "      <th>4</th>\n",
              "      <td>BR</td>\n",
              "      <td>Brazil</td>\n",
              "      <td>sptinc992j</td>\n",
              "      <td>p99p100</td>\n",
              "      <td>share</td>\n",
              "      <td>Pre-tax national income. Share Adults. equal-s...</td>\n",
              "      <td>Pre-tax national income share held by the p99p...</td>\n",
              "      <td>Pre-tax national income =Pre-tax labor income ...</td>\n",
              "      <td>NaN</td>\n",
              "      <td>After 2001, [URL][URL_LINK]http://wordpress.wi...</td>\n",
              "      <td>[[1820, 2000], [2020, 2021]]</td>\n",
              "      <td>NaN</td>\n",
              "    </tr>\n",
              "  </tbody>\n",
              "</table>\n",
              "</div>\n",
              "      <button class=\"colab-df-convert\" onclick=\"convertToInteractive('df-c36bae79-b7ab-4047-b31e-09737694ff52')\"\n",
              "              title=\"Convert this dataframe to an interactive table.\"\n",
              "              style=\"display:none;\">\n",
              "        \n",
              "  <svg xmlns=\"http://www.w3.org/2000/svg\" height=\"24px\"viewBox=\"0 0 24 24\"\n",
              "       width=\"24px\">\n",
              "    <path d=\"M0 0h24v24H0V0z\" fill=\"none\"/>\n",
              "    <path d=\"M18.56 5.44l.94 2.06.94-2.06 2.06-.94-2.06-.94-.94-2.06-.94 2.06-2.06.94zm-11 1L8.5 8.5l.94-2.06 2.06-.94-2.06-.94L8.5 2.5l-.94 2.06-2.06.94zm10 10l.94 2.06.94-2.06 2.06-.94-2.06-.94-.94-2.06-.94 2.06-2.06.94z\"/><path d=\"M17.41 7.96l-1.37-1.37c-.4-.4-.92-.59-1.43-.59-.52 0-1.04.2-1.43.59L10.3 9.45l-7.72 7.72c-.78.78-.78 2.05 0 2.83L4 21.41c.39.39.9.59 1.41.59.51 0 1.02-.2 1.41-.59l7.78-7.78 2.81-2.81c.8-.78.8-2.07 0-2.86zM5.41 20L4 18.59l7.72-7.72 1.47 1.35L5.41 20z\"/>\n",
              "  </svg>\n",
              "      </button>\n",
              "      \n",
              "  <style>\n",
              "    .colab-df-container {\n",
              "      display:flex;\n",
              "      flex-wrap:wrap;\n",
              "      gap: 12px;\n",
              "    }\n",
              "\n",
              "    .colab-df-convert {\n",
              "      background-color: #E8F0FE;\n",
              "      border: none;\n",
              "      border-radius: 50%;\n",
              "      cursor: pointer;\n",
              "      display: none;\n",
              "      fill: #1967D2;\n",
              "      height: 32px;\n",
              "      padding: 0 0 0 0;\n",
              "      width: 32px;\n",
              "    }\n",
              "\n",
              "    .colab-df-convert:hover {\n",
              "      background-color: #E2EBFA;\n",
              "      box-shadow: 0px 1px 2px rgba(60, 64, 67, 0.3), 0px 1px 3px 1px rgba(60, 64, 67, 0.15);\n",
              "      fill: #174EA6;\n",
              "    }\n",
              "\n",
              "    [theme=dark] .colab-df-convert {\n",
              "      background-color: #3B4455;\n",
              "      fill: #D2E3FC;\n",
              "    }\n",
              "\n",
              "    [theme=dark] .colab-df-convert:hover {\n",
              "      background-color: #434B5C;\n",
              "      box-shadow: 0px 1px 3px 1px rgba(0, 0, 0, 0.15);\n",
              "      filter: drop-shadow(0px 1px 2px rgba(0, 0, 0, 0.3));\n",
              "      fill: #FFFFFF;\n",
              "    }\n",
              "  </style>\n",
              "\n",
              "      <script>\n",
              "        const buttonEl =\n",
              "          document.querySelector('#df-c36bae79-b7ab-4047-b31e-09737694ff52 button.colab-df-convert');\n",
              "        buttonEl.style.display =\n",
              "          google.colab.kernel.accessAllowed ? 'block' : 'none';\n",
              "\n",
              "        async function convertToInteractive(key) {\n",
              "          const element = document.querySelector('#df-c36bae79-b7ab-4047-b31e-09737694ff52');\n",
              "          const dataTable =\n",
              "            await google.colab.kernel.invokeFunction('convertToInteractive',\n",
              "                                                     [key], {});\n",
              "          if (!dataTable) return;\n",
              "\n",
              "          const docLinkHtml = 'Like what you see? Visit the ' +\n",
              "            '<a target=\"_blank\" href=https://colab.research.google.com/notebooks/data_table.ipynb>data table notebook</a>'\n",
              "            + ' to learn more about interactive tables.';\n",
              "          element.innerHTML = '';\n",
              "          dataTable['output_type'] = 'display_data';\n",
              "          await google.colab.output.renderOutput(dataTable, element);\n",
              "          const docLink = document.createElement('div');\n",
              "          docLink.innerHTML = docLinkHtml;\n",
              "          element.appendChild(docLink);\n",
              "        }\n",
              "      </script>\n",
              "    </div>\n",
              "  </div>\n",
              "  "
            ]
          },
          "metadata": {},
          "execution_count": 148
        }
      ]
    },
    {
      "cell_type": "code",
      "source": [
        "'''\n",
        "Values por Indicadores não Nan\n",
        "Indica quais indicadores possuem mais valores não Nan, isso é necessário para\n",
        "vermos os indicadores que possuem mais dados para a análise\n",
        "'''\n",
        "df.dropna()[['Indicator']].groupby('Indicator').size().reset_index(name='Count').sort_values('Indicator')\n"
      ],
      "metadata": {
        "colab": {
          "base_uri": "https://localhost:8080/",
          "height": 0
        },
        "id": "5RrlV73zyIwa",
        "outputId": "21d12424-6268-4893-9e1c-3dc6c52639c1"
      },
      "execution_count": 149,
      "outputs": [
        {
          "output_type": "execute_result",
          "data": {
            "text/plain": [
              "                  Indicator  Count\n",
              "0      gptinc_pall_992_j_BR     43\n",
              "1      gptinc_pall_992_j_CN     44\n",
              "2      gptinc_pall_992_j_US    109\n",
              "3     sptinc_p0p50_992_j_BR     48\n",
              "4     sptinc_p0p50_992_j_CN     50\n",
              "5     sptinc_p0p50_992_j_US    109\n",
              "6    sptinc_p50p90_992_j_BR     42\n",
              "7    sptinc_p50p90_992_j_CN     44\n",
              "8    sptinc_p50p90_992_j_US    109\n",
              "9   sptinc_p90p100_992_j_BR     48\n",
              "10  sptinc_p90p100_992_j_CN     50\n",
              "11  sptinc_p90p100_992_j_US    109\n",
              "12  sptinc_p99p100_992_j_BR     48\n",
              "13  sptinc_p99p100_992_j_CN     50\n",
              "14  sptinc_p99p100_992_j_US    109"
            ],
            "text/html": [
              "\n",
              "  <div id=\"df-bea1591f-66d0-403a-b53c-813a5074d4aa\">\n",
              "    <div class=\"colab-df-container\">\n",
              "      <div>\n",
              "<style scoped>\n",
              "    .dataframe tbody tr th:only-of-type {\n",
              "        vertical-align: middle;\n",
              "    }\n",
              "\n",
              "    .dataframe tbody tr th {\n",
              "        vertical-align: top;\n",
              "    }\n",
              "\n",
              "    .dataframe thead th {\n",
              "        text-align: right;\n",
              "    }\n",
              "</style>\n",
              "<table border=\"1\" class=\"dataframe\">\n",
              "  <thead>\n",
              "    <tr style=\"text-align: right;\">\n",
              "      <th></th>\n",
              "      <th>Indicator</th>\n",
              "      <th>Count</th>\n",
              "    </tr>\n",
              "  </thead>\n",
              "  <tbody>\n",
              "    <tr>\n",
              "      <th>0</th>\n",
              "      <td>gptinc_pall_992_j_BR</td>\n",
              "      <td>43</td>\n",
              "    </tr>\n",
              "    <tr>\n",
              "      <th>1</th>\n",
              "      <td>gptinc_pall_992_j_CN</td>\n",
              "      <td>44</td>\n",
              "    </tr>\n",
              "    <tr>\n",
              "      <th>2</th>\n",
              "      <td>gptinc_pall_992_j_US</td>\n",
              "      <td>109</td>\n",
              "    </tr>\n",
              "    <tr>\n",
              "      <th>3</th>\n",
              "      <td>sptinc_p0p50_992_j_BR</td>\n",
              "      <td>48</td>\n",
              "    </tr>\n",
              "    <tr>\n",
              "      <th>4</th>\n",
              "      <td>sptinc_p0p50_992_j_CN</td>\n",
              "      <td>50</td>\n",
              "    </tr>\n",
              "    <tr>\n",
              "      <th>5</th>\n",
              "      <td>sptinc_p0p50_992_j_US</td>\n",
              "      <td>109</td>\n",
              "    </tr>\n",
              "    <tr>\n",
              "      <th>6</th>\n",
              "      <td>sptinc_p50p90_992_j_BR</td>\n",
              "      <td>42</td>\n",
              "    </tr>\n",
              "    <tr>\n",
              "      <th>7</th>\n",
              "      <td>sptinc_p50p90_992_j_CN</td>\n",
              "      <td>44</td>\n",
              "    </tr>\n",
              "    <tr>\n",
              "      <th>8</th>\n",
              "      <td>sptinc_p50p90_992_j_US</td>\n",
              "      <td>109</td>\n",
              "    </tr>\n",
              "    <tr>\n",
              "      <th>9</th>\n",
              "      <td>sptinc_p90p100_992_j_BR</td>\n",
              "      <td>48</td>\n",
              "    </tr>\n",
              "    <tr>\n",
              "      <th>10</th>\n",
              "      <td>sptinc_p90p100_992_j_CN</td>\n",
              "      <td>50</td>\n",
              "    </tr>\n",
              "    <tr>\n",
              "      <th>11</th>\n",
              "      <td>sptinc_p90p100_992_j_US</td>\n",
              "      <td>109</td>\n",
              "    </tr>\n",
              "    <tr>\n",
              "      <th>12</th>\n",
              "      <td>sptinc_p99p100_992_j_BR</td>\n",
              "      <td>48</td>\n",
              "    </tr>\n",
              "    <tr>\n",
              "      <th>13</th>\n",
              "      <td>sptinc_p99p100_992_j_CN</td>\n",
              "      <td>50</td>\n",
              "    </tr>\n",
              "    <tr>\n",
              "      <th>14</th>\n",
              "      <td>sptinc_p99p100_992_j_US</td>\n",
              "      <td>109</td>\n",
              "    </tr>\n",
              "  </tbody>\n",
              "</table>\n",
              "</div>\n",
              "      <button class=\"colab-df-convert\" onclick=\"convertToInteractive('df-bea1591f-66d0-403a-b53c-813a5074d4aa')\"\n",
              "              title=\"Convert this dataframe to an interactive table.\"\n",
              "              style=\"display:none;\">\n",
              "        \n",
              "  <svg xmlns=\"http://www.w3.org/2000/svg\" height=\"24px\"viewBox=\"0 0 24 24\"\n",
              "       width=\"24px\">\n",
              "    <path d=\"M0 0h24v24H0V0z\" fill=\"none\"/>\n",
              "    <path d=\"M18.56 5.44l.94 2.06.94-2.06 2.06-.94-2.06-.94-.94-2.06-.94 2.06-2.06.94zm-11 1L8.5 8.5l.94-2.06 2.06-.94-2.06-.94L8.5 2.5l-.94 2.06-2.06.94zm10 10l.94 2.06.94-2.06 2.06-.94-2.06-.94-.94-2.06-.94 2.06-2.06.94z\"/><path d=\"M17.41 7.96l-1.37-1.37c-.4-.4-.92-.59-1.43-.59-.52 0-1.04.2-1.43.59L10.3 9.45l-7.72 7.72c-.78.78-.78 2.05 0 2.83L4 21.41c.39.39.9.59 1.41.59.51 0 1.02-.2 1.41-.59l7.78-7.78 2.81-2.81c.8-.78.8-2.07 0-2.86zM5.41 20L4 18.59l7.72-7.72 1.47 1.35L5.41 20z\"/>\n",
              "  </svg>\n",
              "      </button>\n",
              "      \n",
              "  <style>\n",
              "    .colab-df-container {\n",
              "      display:flex;\n",
              "      flex-wrap:wrap;\n",
              "      gap: 12px;\n",
              "    }\n",
              "\n",
              "    .colab-df-convert {\n",
              "      background-color: #E8F0FE;\n",
              "      border: none;\n",
              "      border-radius: 50%;\n",
              "      cursor: pointer;\n",
              "      display: none;\n",
              "      fill: #1967D2;\n",
              "      height: 32px;\n",
              "      padding: 0 0 0 0;\n",
              "      width: 32px;\n",
              "    }\n",
              "\n",
              "    .colab-df-convert:hover {\n",
              "      background-color: #E2EBFA;\n",
              "      box-shadow: 0px 1px 2px rgba(60, 64, 67, 0.3), 0px 1px 3px 1px rgba(60, 64, 67, 0.15);\n",
              "      fill: #174EA6;\n",
              "    }\n",
              "\n",
              "    [theme=dark] .colab-df-convert {\n",
              "      background-color: #3B4455;\n",
              "      fill: #D2E3FC;\n",
              "    }\n",
              "\n",
              "    [theme=dark] .colab-df-convert:hover {\n",
              "      background-color: #434B5C;\n",
              "      box-shadow: 0px 1px 3px 1px rgba(0, 0, 0, 0.15);\n",
              "      filter: drop-shadow(0px 1px 2px rgba(0, 0, 0, 0.3));\n",
              "      fill: #FFFFFF;\n",
              "    }\n",
              "  </style>\n",
              "\n",
              "      <script>\n",
              "        const buttonEl =\n",
              "          document.querySelector('#df-bea1591f-66d0-403a-b53c-813a5074d4aa button.colab-df-convert');\n",
              "        buttonEl.style.display =\n",
              "          google.colab.kernel.accessAllowed ? 'block' : 'none';\n",
              "\n",
              "        async function convertToInteractive(key) {\n",
              "          const element = document.querySelector('#df-bea1591f-66d0-403a-b53c-813a5074d4aa');\n",
              "          const dataTable =\n",
              "            await google.colab.kernel.invokeFunction('convertToInteractive',\n",
              "                                                     [key], {});\n",
              "          if (!dataTable) return;\n",
              "\n",
              "          const docLinkHtml = 'Like what you see? Visit the ' +\n",
              "            '<a target=\"_blank\" href=https://colab.research.google.com/notebooks/data_table.ipynb>data table notebook</a>'\n",
              "            + ' to learn more about interactive tables.';\n",
              "          element.innerHTML = '';\n",
              "          dataTable['output_type'] = 'display_data';\n",
              "          await google.colab.output.renderOutput(dataTable, element);\n",
              "          const docLink = document.createElement('div');\n",
              "          docLink.innerHTML = docLinkHtml;\n",
              "          element.appendChild(docLink);\n",
              "        }\n",
              "      </script>\n",
              "    </div>\n",
              "  </div>\n",
              "  "
            ]
          },
          "metadata": {},
          "execution_count": 149
        }
      ]
    },
    {
      "cell_type": "markdown",
      "source": [
        "## Preparação dos dados"
      ],
      "metadata": {
        "id": "IXAHfR-UFRqY"
      }
    },
    {
      "cell_type": "markdown",
      "source": [
        "### Padronizando e transformando os dados"
      ],
      "metadata": {
        "id": "JSpwHyuy4Rxp"
      }
    },
    {
      "cell_type": "code",
      "source": [
        "'''\n",
        "A coluna Country já possui os valores padronizados\n",
        "'''\n",
        "df['Country'].unique()\n"
      ],
      "metadata": {
        "id": "oFwHqP8YFToq",
        "colab": {
          "base_uri": "https://localhost:8080/"
        },
        "outputId": "db06b5a7-c9e0-456b-dcd2-512e44c8d723"
      },
      "execution_count": 150,
      "outputs": [
        {
          "output_type": "execute_result",
          "data": {
            "text/plain": [
              "array(['Brazil', 'China', 'USA'], dtype=object)"
            ]
          },
          "metadata": {},
          "execution_count": 150
        }
      ]
    },
    {
      "cell_type": "code",
      "source": [
        "'''\n",
        "A coluna Indicator já possui os valores padronizados\n",
        "'''\n",
        "df['Indicator'].unique()\n"
      ],
      "metadata": {
        "colab": {
          "base_uri": "https://localhost:8080/"
        },
        "id": "AmszJTj44WoE",
        "outputId": "d1d1cc59-b88a-4edb-c446-27cd5c573be5"
      },
      "execution_count": 151,
      "outputs": [
        {
          "output_type": "execute_result",
          "data": {
            "text/plain": [
              "array(['gptinc_pall_992_j_BR', 'sptinc_p0p50_992_j_BR',\n",
              "       'sptinc_p50p90_992_j_BR', 'sptinc_p90p100_992_j_BR',\n",
              "       'sptinc_p99p100_992_j_BR', 'gptinc_pall_992_j_CN',\n",
              "       'sptinc_p0p50_992_j_CN', 'sptinc_p50p90_992_j_CN',\n",
              "       'sptinc_p90p100_992_j_CN', 'sptinc_p99p100_992_j_CN',\n",
              "       'gptinc_pall_992_j_US', 'sptinc_p0p50_992_j_US',\n",
              "       'sptinc_p50p90_992_j_US', 'sptinc_p90p100_992_j_US',\n",
              "       'sptinc_p99p100_992_j_US'], dtype=object)"
            ]
          },
          "metadata": {},
          "execution_count": 151
        }
      ]
    },
    {
      "cell_type": "code",
      "source": [
        "'''\n",
        "A coluna Percentile já possui os valores padronizados\n",
        "'''\n",
        "df['Percentile'].unique()\n"
      ],
      "metadata": {
        "colab": {
          "base_uri": "https://localhost:8080/"
        },
        "id": "zbGkbVgr4Xjt",
        "outputId": "175cf9aa-a0bc-4603-8de9-9fcbca113adb"
      },
      "execution_count": 152,
      "outputs": [
        {
          "output_type": "execute_result",
          "data": {
            "text/plain": [
              "array(['pall', 'p0p50', 'p50p90', 'p90p100', 'p99p100'], dtype=object)"
            ]
          },
          "metadata": {},
          "execution_count": 152
        }
      ]
    },
    {
      "cell_type": "code",
      "source": [
        "'''\n",
        "A coluna Year já possui os valores padronizados\n",
        "'''\n",
        "df['Year'].unique()\n"
      ],
      "metadata": {
        "colab": {
          "base_uri": "https://localhost:8080/"
        },
        "id": "fwO4e9Ki4YsH",
        "outputId": "7f7a4ae7-8d6f-4aa4-c23e-25f3a171dd6a"
      },
      "execution_count": 153,
      "outputs": [
        {
          "output_type": "execute_result",
          "data": {
            "text/plain": [
              "array([1913, 1914, 1915, 1916, 1917, 1918, 1919, 1920, 1921, 1922, 1923,\n",
              "       1924, 1925, 1926, 1927, 1928, 1929, 1930, 1931, 1932, 1933, 1934,\n",
              "       1935, 1936, 1937, 1938, 1939, 1940, 1941, 1942, 1943, 1944, 1945,\n",
              "       1946, 1947, 1948, 1949, 1950, 1951, 1952, 1953, 1954, 1955, 1956,\n",
              "       1957, 1958, 1959, 1960, 1961, 1962, 1963, 1964, 1965, 1966, 1967,\n",
              "       1968, 1969, 1970, 1971, 1972, 1973, 1974, 1975, 1976, 1977, 1978,\n",
              "       1979, 1980, 1981, 1982, 1983, 1984, 1985, 1986, 1987, 1988, 1989,\n",
              "       1990, 1991, 1992, 1993, 1994, 1995, 1996, 1997, 1998, 1999, 2000,\n",
              "       2001, 2002, 2003, 2004, 2005, 2006, 2007, 2008, 2009, 2010, 2011,\n",
              "       2012, 2013, 2014, 2015, 2016, 2017, 2018, 2019, 2020, 2021])"
            ]
          },
          "metadata": {},
          "execution_count": 153
        }
      ]
    },
    {
      "cell_type": "code",
      "source": [
        "'''\n",
        "A coluna Value não possui os valores padronizados.\n",
        "Existem valores Nan e valores String nesse campo\n",
        "'''\n",
        "# Valores não numéricos no campo Value\n",
        "count_nan = df.isna().sum()\n",
        "values_nan = count_nan['Value']\n",
        "print(f'Existem {values_nan} valores Nan na coluna Values')\n",
        "\n",
        "'''\n",
        "Remover os separadores de milhares da coluna\n",
        "Motivo: pd.to_numeric não trabakha bem com separados nos números\n",
        "'''\n",
        "df['Value'] = df['Value'].str.replace('.', '', regex=False)\n",
        "\n",
        "transformed_values = pd.to_numeric(df['Value'], errors='coerce')\n",
        "values_not_numeric = transformed_values.isna().sum()\n",
        "print(f'Existem {values_not_numeric} valores não numéricos (String e Nan) na coluna Values')\n"
      ],
      "metadata": {
        "colab": {
          "base_uri": "https://localhost:8080/"
        },
        "id": "THYwb_bx4Z0v",
        "outputId": "ff5e6b32-07e6-440a-fe59-259f93f382e2"
      },
      "execution_count": 154,
      "outputs": [
        {
          "output_type": "stream",
          "name": "stdout",
          "text": [
            "Existem 623 valores Nan na coluna Values\n",
            "Existem 624 valores não numéricos (String e Nan) na coluna Values\n"
          ]
        }
      ]
    },
    {
      "cell_type": "code",
      "source": [
        "'''\n",
        "Converter valores não numéricos para Nan, remover inconsistências\n",
        "'''\n",
        "transformed_values = pd.to_numeric(df['Value'], errors='coerce')\n",
        "df['Value'] = transformed_values\n",
        "\n",
        "df.shape\n"
      ],
      "metadata": {
        "colab": {
          "base_uri": "https://localhost:8080/"
        },
        "id": "j6huy7iB6a_e",
        "outputId": "cf85421c-8eef-46d5-8488-fcb1ac2d4b12"
      },
      "execution_count": 155,
      "outputs": [
        {
          "output_type": "execute_result",
          "data": {
            "text/plain": [
              "(1635, 5)"
            ]
          },
          "metadata": {},
          "execution_count": 155
        }
      ]
    },
    {
      "cell_type": "code",
      "source": [
        "# Considerando dados a partir de 2000\n",
        "df = df.loc[df['Year']>=2000]\n",
        "df.shape\n"
      ],
      "metadata": {
        "colab": {
          "base_uri": "https://localhost:8080/"
        },
        "id": "uG2Xg4CA2Vkd",
        "outputId": "cf89aecd-0c69-4288-9e0d-022f65b2ff72"
      },
      "execution_count": 156,
      "outputs": [
        {
          "output_type": "execute_result",
          "data": {
            "text/plain": [
              "(330, 5)"
            ]
          },
          "metadata": {},
          "execution_count": 156
        }
      ]
    },
    {
      "cell_type": "markdown",
      "source": [
        "### Criando DataFrame para cada Percentile e para cada Country"
      ],
      "metadata": {
        "id": "1Kq7XSKWvumq"
      }
    },
    {
      "cell_type": "code",
      "source": [
        "'''\n",
        "Dataframes separados por país e indicadores para serem visualizados nos gráficos\n",
        "'''\n",
        "# pall\n",
        "percentile = 'pall'\n",
        "df_pall_brazil = df.loc[(df['Country'] == 'Brazil') & (df['Percentile'] == percentile)][['Country',\t'Indicator', 'Percentile', 'Year', 'Value']]\n",
        "df_pall_china = df.loc[(df['Country'] == 'China') & (df['Percentile'] == percentile)][['Country',\t'Indicator', 'Percentile', 'Year', 'Value']]\n",
        "df_pall_usa = df.loc[(df['Country'] == 'USA') & (df['Percentile'] == percentile)][['Country',\t'Indicator', 'Percentile', 'Year', 'Value']]\n",
        "\n",
        "# p0p50\n",
        "percentile = 'p0p50'\n",
        "df_p0p50_brazil = df.loc[(df['Country'] == 'Brazil') & (df['Percentile'] == percentile)][['Country',\t'Indicator', 'Percentile', 'Year', 'Value']]\n",
        "df_p0p50_china = df.loc[(df['Country'] == 'China') & (df['Percentile'] == percentile)][['Country',\t'Indicator', 'Percentile', 'Year', 'Value']]\n",
        "df_p0p50_usa = df.loc[(df['Country'] == 'USA') & (df['Percentile'] == percentile)][['Country',\t'Indicator', 'Percentile', 'Year', 'Value']]\n",
        "\n",
        "# p50p90\n",
        "percentile = 'p50p90'\n",
        "df_p50p90_brazil = df.loc[(df['Country'] == 'Brazil') & (df['Percentile'] == percentile)][['Country',\t'Indicator', 'Percentile', 'Year', 'Value']]\n",
        "df_p50p90_china = df.loc[(df['Country'] == 'China') & (df['Percentile'] == percentile)][['Country',\t'Indicator', 'Percentile', 'Year', 'Value']]\n",
        "df_p50p90_usa = df.loc[(df['Country'] == 'USA') & (df['Percentile'] == percentile)][['Country',\t'Indicator', 'Percentile', 'Year', 'Value']]\n",
        "\n",
        "# p90p100\n",
        "percentile = 'p90p100'\n",
        "df_p90p100_brazil = df.loc[(df['Country'] == 'Brazil') & (df['Percentile'] == percentile)][['Country',\t'Indicator', 'Percentile', 'Year', 'Value']]\n",
        "df_p90p100_china = df.loc[(df['Country'] == 'China') & (df['Percentile'] == percentile)][['Country',\t'Indicator', 'Percentile', 'Year', 'Value']]\n",
        "df_p90p100_usa = df.loc[(df['Country'] == 'USA') & (df['Percentile'] == percentile)][['Country',\t'Indicator', 'Percentile', 'Year', 'Value']]\n",
        "\n",
        "# p99p100\n",
        "percentile = 'p99p100'\n",
        "df_p99p100_brazil = df.loc[(df['Country'] == 'Brazil') & (df['Percentile'] == percentile)][['Country',\t'Indicator', 'Percentile', 'Year', 'Value']]\n",
        "df_p99p100_china = df.loc[(df['Country'] == 'China') & (df['Percentile'] == percentile)][['Country',\t'Indicator', 'Percentile', 'Year', 'Value']]\n",
        "df_p99p100_usa = df.loc[(df['Country'] == 'USA') & (df['Percentile'] == percentile)][['Country',\t'Indicator', 'Percentile', 'Year', 'Value']]\n"
      ],
      "metadata": {
        "id": "03tg1XbU8eXV"
      },
      "execution_count": 157,
      "outputs": []
    },
    {
      "cell_type": "markdown",
      "source": [
        "### Dropando valores Nan da coluna Value"
      ],
      "metadata": {
        "id": "EmRAaqCQwOPh"
      }
    },
    {
      "cell_type": "code",
      "source": [
        "'''\n",
        "Dropando valores Nan para desconsiderar a falta de registros na base de dados\n",
        "'''\n",
        "# Brazil\n",
        "df_pall_brazil.dropna(inplace=True)\n",
        "df_p0p50_brazil.dropna(inplace=True)\n",
        "df_p50p90_brazil.dropna(inplace=True)\n",
        "df_p90p100_brazil.dropna(inplace=True)\n",
        "df_p99p100_brazil.dropna(inplace=True)\n",
        "\n",
        "# Eua\n",
        "df_pall_usa.dropna(inplace=True)\n",
        "df_p0p50_usa.dropna(inplace=True)\n",
        "df_p50p90_usa.dropna(inplace=True)\n",
        "df_p90p100_usa.dropna(inplace=True)\n",
        "df_p99p100_usa.dropna(inplace=True)\n",
        "\n",
        "# China\n",
        "df_pall_china.dropna(inplace=True)\n",
        "df_p0p50_china.dropna(inplace=True)\n",
        "df_p50p90_china.dropna(inplace=True)\n",
        "df_p90p100_china.dropna(inplace=True)\n",
        "df_p99p100_china.dropna(inplace=True)\n",
        "\n",
        "'''\n",
        "Uma outra hipótese seria utilizar:\n",
        "\n",
        "# Preencha os registros faltantes com base no registro anterior\n",
        "df_pall_brazil.fillna(method='ffill', inplace=True)\n",
        "\n",
        "Porém, dessa forma estamos alterando/'forçando' o dado base\n",
        "'''\n"
      ],
      "metadata": {
        "colab": {
          "base_uri": "https://localhost:8080/",
          "height": 52
        },
        "id": "pafH02l1wT8Z",
        "outputId": "c95fc4c0-4efe-47f0-8f7e-4981603b11fe"
      },
      "execution_count": 158,
      "outputs": [
        {
          "output_type": "execute_result",
          "data": {
            "text/plain": [
              "\"\\nUma outra hipótese seria utilizar:\\n\\n# Preencha os registros faltantes com base no registro anterior\\ndf_pall_brazil.fillna(method='ffill', inplace=True)\\n\\nPorém, dessa forma estamos alterando/'forçando' o dado base\\n\""
            ],
            "application/vnd.google.colaboratory.intrinsic+json": {
              "type": "string"
            }
          },
          "metadata": {},
          "execution_count": 158
        }
      ]
    },
    {
      "cell_type": "code",
      "source": [
        "df_pall_brazil.shape"
      ],
      "metadata": {
        "colab": {
          "base_uri": "https://localhost:8080/"
        },
        "id": "oBctH3kc9QrA",
        "outputId": "3fdf3f3c-ac12-4b83-cb13-f1df9c3bb582"
      },
      "execution_count": 159,
      "outputs": [
        {
          "output_type": "execute_result",
          "data": {
            "text/plain": [
              "(22, 5)"
            ]
          },
          "metadata": {},
          "execution_count": 159
        }
      ]
    },
    {
      "cell_type": "markdown",
      "source": [
        "### Removendo outliers de cada dataframe"
      ],
      "metadata": {
        "id": "PtMKD6rOsX5B"
      }
    },
    {
      "cell_type": "code",
      "source": [
        "'''\n",
        "Removemos os outliers antes de criar os gráficos para evitar distorções e obter\n",
        "uma representação mais precisa dos dados\n",
        "'''\n",
        "# Método do Intervalo Interquartil (IQR)\n",
        "\n",
        "k = 1.5"
      ],
      "metadata": {
        "id": "sJsheNAr8uHm"
      },
      "execution_count": 160,
      "outputs": []
    },
    {
      "cell_type": "markdown",
      "source": [
        "#### Brazil"
      ],
      "metadata": {
        "id": "X1TwXxXI_T1h"
      }
    },
    {
      "cell_type": "markdown",
      "source": [
        "##### df_pall_brazil"
      ],
      "metadata": {
        "id": "xXeSPoBO_Mx9"
      }
    },
    {
      "cell_type": "code",
      "source": [
        "Q1 = df_pall_brazil['Value'].quantile(0.25)\n",
        "Q3 = df_pall_brazil['Value'].quantile(0.75)\n",
        "\n",
        "IQR = Q3 - Q1\n",
        "\n",
        "limite_inferior = Q1 - k * IQR\n",
        "limite_superior = Q3 + k * IQR\n",
        "\n",
        "df_pall_brazil = df_pall_brazil[(df_pall_brazil['Value'] >= limite_inferior) & (df_pall_brazil['Value'] <= limite_superior)]\n",
        "df_pall_brazil.head()\n"
      ],
      "metadata": {
        "colab": {
          "base_uri": "https://localhost:8080/",
          "height": 0
        },
        "id": "-uzYFFkFsZqP",
        "outputId": "f3007119-b53c-44a0-91fe-ff79e5daa647"
      },
      "execution_count": 161,
      "outputs": [
        {
          "output_type": "execute_result",
          "data": {
            "text/plain": [
              "   Country             Indicator Percentile  Year         Value\n",
              "87  Brazil  gptinc_pall_992_j_BR       pall  2000  7.033325e+11\n",
              "88  Brazil  gptinc_pall_992_j_BR       pall  2001  7.033324e+11\n",
              "89  Brazil  gptinc_pall_992_j_BR       pall  2002  6.983631e+11\n",
              "90  Brazil  gptinc_pall_992_j_BR       pall  2003  7.009310e+11\n",
              "91  Brazil  gptinc_pall_992_j_BR       pall  2004  6.957800e+11"
            ],
            "text/html": [
              "\n",
              "  <div id=\"df-3d75c964-e829-4852-841c-1a0d0595c053\">\n",
              "    <div class=\"colab-df-container\">\n",
              "      <div>\n",
              "<style scoped>\n",
              "    .dataframe tbody tr th:only-of-type {\n",
              "        vertical-align: middle;\n",
              "    }\n",
              "\n",
              "    .dataframe tbody tr th {\n",
              "        vertical-align: top;\n",
              "    }\n",
              "\n",
              "    .dataframe thead th {\n",
              "        text-align: right;\n",
              "    }\n",
              "</style>\n",
              "<table border=\"1\" class=\"dataframe\">\n",
              "  <thead>\n",
              "    <tr style=\"text-align: right;\">\n",
              "      <th></th>\n",
              "      <th>Country</th>\n",
              "      <th>Indicator</th>\n",
              "      <th>Percentile</th>\n",
              "      <th>Year</th>\n",
              "      <th>Value</th>\n",
              "    </tr>\n",
              "  </thead>\n",
              "  <tbody>\n",
              "    <tr>\n",
              "      <th>87</th>\n",
              "      <td>Brazil</td>\n",
              "      <td>gptinc_pall_992_j_BR</td>\n",
              "      <td>pall</td>\n",
              "      <td>2000</td>\n",
              "      <td>7.033325e+11</td>\n",
              "    </tr>\n",
              "    <tr>\n",
              "      <th>88</th>\n",
              "      <td>Brazil</td>\n",
              "      <td>gptinc_pall_992_j_BR</td>\n",
              "      <td>pall</td>\n",
              "      <td>2001</td>\n",
              "      <td>7.033324e+11</td>\n",
              "    </tr>\n",
              "    <tr>\n",
              "      <th>89</th>\n",
              "      <td>Brazil</td>\n",
              "      <td>gptinc_pall_992_j_BR</td>\n",
              "      <td>pall</td>\n",
              "      <td>2002</td>\n",
              "      <td>6.983631e+11</td>\n",
              "    </tr>\n",
              "    <tr>\n",
              "      <th>90</th>\n",
              "      <td>Brazil</td>\n",
              "      <td>gptinc_pall_992_j_BR</td>\n",
              "      <td>pall</td>\n",
              "      <td>2003</td>\n",
              "      <td>7.009310e+11</td>\n",
              "    </tr>\n",
              "    <tr>\n",
              "      <th>91</th>\n",
              "      <td>Brazil</td>\n",
              "      <td>gptinc_pall_992_j_BR</td>\n",
              "      <td>pall</td>\n",
              "      <td>2004</td>\n",
              "      <td>6.957800e+11</td>\n",
              "    </tr>\n",
              "  </tbody>\n",
              "</table>\n",
              "</div>\n",
              "      <button class=\"colab-df-convert\" onclick=\"convertToInteractive('df-3d75c964-e829-4852-841c-1a0d0595c053')\"\n",
              "              title=\"Convert this dataframe to an interactive table.\"\n",
              "              style=\"display:none;\">\n",
              "        \n",
              "  <svg xmlns=\"http://www.w3.org/2000/svg\" height=\"24px\"viewBox=\"0 0 24 24\"\n",
              "       width=\"24px\">\n",
              "    <path d=\"M0 0h24v24H0V0z\" fill=\"none\"/>\n",
              "    <path d=\"M18.56 5.44l.94 2.06.94-2.06 2.06-.94-2.06-.94-.94-2.06-.94 2.06-2.06.94zm-11 1L8.5 8.5l.94-2.06 2.06-.94-2.06-.94L8.5 2.5l-.94 2.06-2.06.94zm10 10l.94 2.06.94-2.06 2.06-.94-2.06-.94-.94-2.06-.94 2.06-2.06.94z\"/><path d=\"M17.41 7.96l-1.37-1.37c-.4-.4-.92-.59-1.43-.59-.52 0-1.04.2-1.43.59L10.3 9.45l-7.72 7.72c-.78.78-.78 2.05 0 2.83L4 21.41c.39.39.9.59 1.41.59.51 0 1.02-.2 1.41-.59l7.78-7.78 2.81-2.81c.8-.78.8-2.07 0-2.86zM5.41 20L4 18.59l7.72-7.72 1.47 1.35L5.41 20z\"/>\n",
              "  </svg>\n",
              "      </button>\n",
              "      \n",
              "  <style>\n",
              "    .colab-df-container {\n",
              "      display:flex;\n",
              "      flex-wrap:wrap;\n",
              "      gap: 12px;\n",
              "    }\n",
              "\n",
              "    .colab-df-convert {\n",
              "      background-color: #E8F0FE;\n",
              "      border: none;\n",
              "      border-radius: 50%;\n",
              "      cursor: pointer;\n",
              "      display: none;\n",
              "      fill: #1967D2;\n",
              "      height: 32px;\n",
              "      padding: 0 0 0 0;\n",
              "      width: 32px;\n",
              "    }\n",
              "\n",
              "    .colab-df-convert:hover {\n",
              "      background-color: #E2EBFA;\n",
              "      box-shadow: 0px 1px 2px rgba(60, 64, 67, 0.3), 0px 1px 3px 1px rgba(60, 64, 67, 0.15);\n",
              "      fill: #174EA6;\n",
              "    }\n",
              "\n",
              "    [theme=dark] .colab-df-convert {\n",
              "      background-color: #3B4455;\n",
              "      fill: #D2E3FC;\n",
              "    }\n",
              "\n",
              "    [theme=dark] .colab-df-convert:hover {\n",
              "      background-color: #434B5C;\n",
              "      box-shadow: 0px 1px 3px 1px rgba(0, 0, 0, 0.15);\n",
              "      filter: drop-shadow(0px 1px 2px rgba(0, 0, 0, 0.3));\n",
              "      fill: #FFFFFF;\n",
              "    }\n",
              "  </style>\n",
              "\n",
              "      <script>\n",
              "        const buttonEl =\n",
              "          document.querySelector('#df-3d75c964-e829-4852-841c-1a0d0595c053 button.colab-df-convert');\n",
              "        buttonEl.style.display =\n",
              "          google.colab.kernel.accessAllowed ? 'block' : 'none';\n",
              "\n",
              "        async function convertToInteractive(key) {\n",
              "          const element = document.querySelector('#df-3d75c964-e829-4852-841c-1a0d0595c053');\n",
              "          const dataTable =\n",
              "            await google.colab.kernel.invokeFunction('convertToInteractive',\n",
              "                                                     [key], {});\n",
              "          if (!dataTable) return;\n",
              "\n",
              "          const docLinkHtml = 'Like what you see? Visit the ' +\n",
              "            '<a target=\"_blank\" href=https://colab.research.google.com/notebooks/data_table.ipynb>data table notebook</a>'\n",
              "            + ' to learn more about interactive tables.';\n",
              "          element.innerHTML = '';\n",
              "          dataTable['output_type'] = 'display_data';\n",
              "          await google.colab.output.renderOutput(dataTable, element);\n",
              "          const docLink = document.createElement('div');\n",
              "          docLink.innerHTML = docLinkHtml;\n",
              "          element.appendChild(docLink);\n",
              "        }\n",
              "      </script>\n",
              "    </div>\n",
              "  </div>\n",
              "  "
            ]
          },
          "metadata": {},
          "execution_count": 161
        }
      ]
    },
    {
      "cell_type": "markdown",
      "source": [
        "##### df_p0p50_brazil"
      ],
      "metadata": {
        "id": "5wloIJAs_Yjl"
      }
    },
    {
      "cell_type": "code",
      "source": [
        "Q1 = df_p0p50_brazil['Value'].quantile(0.25)\n",
        "Q3 = df_p0p50_brazil['Value'].quantile(0.75)\n",
        "\n",
        "IQR = Q3 - Q1\n",
        "\n",
        "limite_inferior = Q1 - k * IQR\n",
        "limite_superior = Q3 + k * IQR\n",
        "\n",
        "df_p0p50_brazil = df_p0p50_brazil[(df_p0p50_brazil['Value'] >= limite_inferior) & (df_p0p50_brazil['Value'] <= limite_superior)]\n",
        "df_p0p50_brazil.shape\n"
      ],
      "metadata": {
        "colab": {
          "base_uri": "https://localhost:8080/"
        },
        "id": "Nsa0TU2yABXR",
        "outputId": "d52de1a5-b56e-4d5a-d5ea-33d51734c534"
      },
      "execution_count": 162,
      "outputs": [
        {
          "output_type": "execute_result",
          "data": {
            "text/plain": [
              "(21, 5)"
            ]
          },
          "metadata": {},
          "execution_count": 162
        }
      ]
    },
    {
      "cell_type": "markdown",
      "source": [
        "##### df_p50p90_brazil"
      ],
      "metadata": {
        "id": "9afv5X5N_aEu"
      }
    },
    {
      "cell_type": "code",
      "source": [
        "Q1 = df_p50p90_brazil['Value'].quantile(0.25)\n",
        "Q3 = df_p50p90_brazil['Value'].quantile(0.75)\n",
        "\n",
        "IQR = Q3 - Q1\n",
        "\n",
        "limite_inferior = Q1 - k * IQR\n",
        "limite_superior = Q3 + k * IQR\n",
        "\n",
        "df_p50p90_brazil = df_p50p90_brazil[(df_p50p90_brazil['Value'] >= limite_inferior) & (df_p50p90_brazil['Value'] <= limite_superior)]\n",
        "df_p50p90_brazil.shape\n"
      ],
      "metadata": {
        "colab": {
          "base_uri": "https://localhost:8080/"
        },
        "id": "BiJ0wIQxABv4",
        "outputId": "bcbce704-5a50-489f-f7a6-edec67422345"
      },
      "execution_count": 163,
      "outputs": [
        {
          "output_type": "execute_result",
          "data": {
            "text/plain": [
              "(21, 5)"
            ]
          },
          "metadata": {},
          "execution_count": 163
        }
      ]
    },
    {
      "cell_type": "markdown",
      "source": [
        "##### df_p90p100_brazil"
      ],
      "metadata": {
        "id": "UDtS-KBv_eQK"
      }
    },
    {
      "cell_type": "code",
      "source": [
        "Q1 = df_p90p100_brazil['Value'].quantile(0.25)\n",
        "Q3 = df_p90p100_brazil['Value'].quantile(0.75)\n",
        "\n",
        "IQR = Q3 - Q1\n",
        "\n",
        "limite_inferior = Q1 - k * IQR\n",
        "limite_superior = Q3 + k * IQR\n",
        "\n",
        "df_p90p100_brazil = df_p90p100_brazil[(df_p90p100_brazil['Value'] >= limite_inferior) & (df_p90p100_brazil['Value'] <= limite_superior)]\n",
        "df_p90p100_brazil.shape\n"
      ],
      "metadata": {
        "colab": {
          "base_uri": "https://localhost:8080/"
        },
        "id": "gXXJD0LJACXU",
        "outputId": "ff5897ae-0067-4683-c684-409f25f2f2fd"
      },
      "execution_count": 164,
      "outputs": [
        {
          "output_type": "execute_result",
          "data": {
            "text/plain": [
              "(20, 5)"
            ]
          },
          "metadata": {},
          "execution_count": 164
        }
      ]
    },
    {
      "cell_type": "markdown",
      "source": [
        "##### df_p99p100_brazil"
      ],
      "metadata": {
        "id": "MX6Gl5Ax_gWS"
      }
    },
    {
      "cell_type": "code",
      "source": [
        "Q1 = df_p99p100_brazil['Value'].quantile(0.25)\n",
        "Q3 = df_p99p100_brazil['Value'].quantile(0.75)\n",
        "\n",
        "IQR = Q3 - Q1\n",
        "\n",
        "limite_inferior = Q1 - k * IQR\n",
        "limite_superior = Q3 + k * IQR\n",
        "\n",
        "df_p99p100_brazil = df_p99p100_brazil[(df_p99p100_brazil['Value'] >= limite_inferior) & (df_p99p100_brazil['Value'] <= limite_superior)]\n",
        "df_p99p100_brazil.shape\n"
      ],
      "metadata": {
        "colab": {
          "base_uri": "https://localhost:8080/"
        },
        "id": "0RWFd666ACyR",
        "outputId": "decfb2fd-d9e8-46d3-8a34-d7d1e2de56b2"
      },
      "execution_count": 165,
      "outputs": [
        {
          "output_type": "execute_result",
          "data": {
            "text/plain": [
              "(21, 5)"
            ]
          },
          "metadata": {},
          "execution_count": 165
        }
      ]
    },
    {
      "cell_type": "markdown",
      "source": [
        "#### Eua"
      ],
      "metadata": {
        "id": "SXVYPdFc_l_O"
      }
    },
    {
      "cell_type": "markdown",
      "source": [
        "##### df_pall_eua"
      ],
      "metadata": {
        "id": "-WzZpJhI_rJ7"
      }
    },
    {
      "cell_type": "code",
      "source": [
        "Q1 = df_pall_usa['Value'].quantile(0.25)\n",
        "Q3 = df_pall_usa['Value'].quantile(0.75)\n",
        "\n",
        "IQR = Q3 - Q1\n",
        "\n",
        "limite_inferior = Q1 - k * IQR\n",
        "limite_superior = Q3 + k * IQR\n",
        "\n",
        "df_pall_usa = df_pall_usa[(df_pall_usa['Value'] >= limite_inferior) & (df_pall_usa['Value'] <= limite_superior)]\n",
        "df_pall_usa.shape\n"
      ],
      "metadata": {
        "colab": {
          "base_uri": "https://localhost:8080/"
        },
        "id": "Gn5RWvvS_0b8",
        "outputId": "7b6aefda-cf73-43fd-ed8b-6d21e219bca0"
      },
      "execution_count": 166,
      "outputs": [
        {
          "output_type": "execute_result",
          "data": {
            "text/plain": [
              "(21, 5)"
            ]
          },
          "metadata": {},
          "execution_count": 166
        }
      ]
    },
    {
      "cell_type": "markdown",
      "source": [
        "##### df_p0p50_eua"
      ],
      "metadata": {
        "id": "3145D9uH_rKH"
      }
    },
    {
      "cell_type": "code",
      "source": [
        "Q1 = df_p0p50_usa['Value'].quantile(0.25)\n",
        "Q3 = df_p0p50_usa['Value'].quantile(0.75)\n",
        "\n",
        "IQR = Q3 - Q1\n",
        "\n",
        "limite_inferior = Q1 - k * IQR\n",
        "limite_superior = Q3 + k * IQR\n",
        "\n",
        "df_p0p50_usa = df_p0p50_usa[(df_p0p50_usa['Value'] >= limite_inferior) & (df_p0p50_usa['Value'] <= limite_superior)]\n",
        "df_p0p50_usa.shape\n"
      ],
      "metadata": {
        "colab": {
          "base_uri": "https://localhost:8080/"
        },
        "id": "G_vPeDrZ_04l",
        "outputId": "83020b59-457c-43b2-c097-dfac5863e9db"
      },
      "execution_count": 167,
      "outputs": [
        {
          "output_type": "execute_result",
          "data": {
            "text/plain": [
              "(21, 5)"
            ]
          },
          "metadata": {},
          "execution_count": 167
        }
      ]
    },
    {
      "cell_type": "markdown",
      "source": [
        "##### df_p50p90_eua"
      ],
      "metadata": {
        "id": "pEDYeSem_rKH"
      }
    },
    {
      "cell_type": "code",
      "source": [
        "Q1 = df_p50p90_usa['Value'].quantile(0.25)\n",
        "Q3 = df_p50p90_usa['Value'].quantile(0.75)\n",
        "\n",
        "IQR = Q3 - Q1\n",
        "\n",
        "limite_inferior = Q1 - k * IQR\n",
        "limite_superior = Q3 + k * IQR\n",
        "\n",
        "df_p50p90_usa = df_p50p90_usa[(df_p50p90_usa['Value'] >= limite_inferior) & (df_p50p90_usa['Value'] <= limite_superior)]\n",
        "df_p50p90_usa.shape\n"
      ],
      "metadata": {
        "colab": {
          "base_uri": "https://localhost:8080/"
        },
        "id": "mWgT7KG__1Yp",
        "outputId": "f9c4d25f-f173-47a1-dd8d-2f10db90a1cc"
      },
      "execution_count": 168,
      "outputs": [
        {
          "output_type": "execute_result",
          "data": {
            "text/plain": [
              "(20, 5)"
            ]
          },
          "metadata": {},
          "execution_count": 168
        }
      ]
    },
    {
      "cell_type": "markdown",
      "source": [
        "##### df_p90p100_eua"
      ],
      "metadata": {
        "id": "_rLqQs3z_rKH"
      }
    },
    {
      "cell_type": "code",
      "source": [
        "Q1 = df_p90p100_usa['Value'].quantile(0.25)\n",
        "Q3 = df_p90p100_usa['Value'].quantile(0.75)\n",
        "\n",
        "IQR = Q3 - Q1\n",
        "\n",
        "limite_inferior = Q1 - k * IQR\n",
        "limite_superior = Q3 + k * IQR\n",
        "\n",
        "df_p90p100_usa = df_p90p100_usa[(df_p90p100_usa['Value'] >= limite_inferior) & (df_p90p100_usa['Value'] <= limite_superior)]\n",
        "df_p90p100_usa.shape\n"
      ],
      "metadata": {
        "colab": {
          "base_uri": "https://localhost:8080/"
        },
        "id": "TFAvwgkb_11j",
        "outputId": "774c94e8-9af3-4925-cb0f-294f109a8c84"
      },
      "execution_count": 169,
      "outputs": [
        {
          "output_type": "execute_result",
          "data": {
            "text/plain": [
              "(20, 5)"
            ]
          },
          "metadata": {},
          "execution_count": 169
        }
      ]
    },
    {
      "cell_type": "markdown",
      "source": [
        "##### df_p99p100_eua"
      ],
      "metadata": {
        "id": "cu5ZJWAd_rKI"
      }
    },
    {
      "cell_type": "code",
      "source": [
        "Q1 = df_p99p100_usa['Value'].quantile(0.25)\n",
        "Q3 = df_p99p100_usa['Value'].quantile(0.75)\n",
        "\n",
        "IQR = Q3 - Q1\n",
        "\n",
        "limite_inferior = Q1 - k * IQR\n",
        "limite_superior = Q3 + k * IQR\n",
        "\n",
        "df_p99p100_usa = df_p99p100_usa[(df_p99p100_usa['Value'] >= limite_inferior) & (df_p99p100_usa['Value'] <= limite_superior)]\n",
        "df_p99p100_usa.shape\n"
      ],
      "metadata": {
        "colab": {
          "base_uri": "https://localhost:8080/"
        },
        "id": "7fSMKMfD_2Qn",
        "outputId": "dbe41b45-83c0-4d28-ea2d-5aef4a7ff6c9"
      },
      "execution_count": 170,
      "outputs": [
        {
          "output_type": "execute_result",
          "data": {
            "text/plain": [
              "(19, 5)"
            ]
          },
          "metadata": {},
          "execution_count": 170
        }
      ]
    },
    {
      "cell_type": "markdown",
      "source": [
        "#### China"
      ],
      "metadata": {
        "id": "Q7ElUv_z_nXO"
      }
    },
    {
      "cell_type": "markdown",
      "source": [
        "##### df_pall_china"
      ],
      "metadata": {
        "id": "mrozwdUZ_5Ix"
      }
    },
    {
      "cell_type": "code",
      "source": [
        "Q1 = df_pall_china['Value'].quantile(0.25)\n",
        "Q3 = df_pall_china['Value'].quantile(0.75)\n",
        "\n",
        "IQR = Q3 - Q1\n",
        "\n",
        "limite_inferior = Q1 - k * IQR\n",
        "limite_superior = Q3 + k * IQR\n",
        "\n",
        "df_pall_china = df_pall_china[(df_pall_china['Value'] >= limite_inferior) & (df_pall_china['Value'] <= limite_superior)]\n",
        "df_pall_china.shape\n"
      ],
      "metadata": {
        "colab": {
          "base_uri": "https://localhost:8080/"
        },
        "id": "SLtPAVH1_5I8",
        "outputId": "5a830c56-78e4-4c3b-8400-680b8e636876"
      },
      "execution_count": 171,
      "outputs": [
        {
          "output_type": "execute_result",
          "data": {
            "text/plain": [
              "(19, 5)"
            ]
          },
          "metadata": {},
          "execution_count": 171
        }
      ]
    },
    {
      "cell_type": "markdown",
      "source": [
        "##### df_p0p50_china"
      ],
      "metadata": {
        "id": "qgbdHJD8_5I8"
      }
    },
    {
      "cell_type": "code",
      "source": [
        "Q1 = df_p0p50_china['Value'].quantile(0.25)\n",
        "Q3 = df_p0p50_china['Value'].quantile(0.75)\n",
        "\n",
        "IQR = Q3 - Q1\n",
        "\n",
        "limite_inferior = Q1 - k * IQR\n",
        "limite_superior = Q3 + k * IQR\n",
        "\n",
        "df_p0p50_china = df_p0p50_china[(df_p0p50_china['Value'] >= limite_inferior) & (df_p0p50_china['Value'] <= limite_superior)]\n",
        "df_p0p50_china.shape\n"
      ],
      "metadata": {
        "colab": {
          "base_uri": "https://localhost:8080/"
        },
        "id": "vw39Zakb_5I8",
        "outputId": "b73a4470-dcf0-4512-d11f-6bd641c34bd7"
      },
      "execution_count": 172,
      "outputs": [
        {
          "output_type": "execute_result",
          "data": {
            "text/plain": [
              "(19, 5)"
            ]
          },
          "metadata": {},
          "execution_count": 172
        }
      ]
    },
    {
      "cell_type": "markdown",
      "source": [
        "##### df_p50p90_china"
      ],
      "metadata": {
        "id": "EVqLzxgb_5I8"
      }
    },
    {
      "cell_type": "code",
      "source": [
        "Q1 = df_p50p90_china['Value'].quantile(0.25)\n",
        "Q3 = df_p50p90_china['Value'].quantile(0.75)\n",
        "\n",
        "IQR = Q3 - Q1\n",
        "\n",
        "limite_inferior = Q1 - k * IQR\n",
        "limite_superior = Q3 + k * IQR\n",
        "\n",
        "df_p50p90_china = df_p50p90_china[(df_p50p90_china['Value'] >= limite_inferior) & (df_p50p90_china['Value'] <= limite_superior)]\n",
        "df_p50p90_china.shape\n"
      ],
      "metadata": {
        "colab": {
          "base_uri": "https://localhost:8080/"
        },
        "id": "bKUHeAKO_5I9",
        "outputId": "002f0f3d-6839-413e-b2ec-7ae632fc3da4"
      },
      "execution_count": 173,
      "outputs": [
        {
          "output_type": "execute_result",
          "data": {
            "text/plain": [
              "(18, 5)"
            ]
          },
          "metadata": {},
          "execution_count": 173
        }
      ]
    },
    {
      "cell_type": "markdown",
      "source": [
        "##### df_p90p100_china"
      ],
      "metadata": {
        "id": "E8R-eL0k_5I9"
      }
    },
    {
      "cell_type": "code",
      "source": [
        "Q1 = df_p90p100_china['Value'].quantile(0.25)\n",
        "Q3 = df_p90p100_china['Value'].quantile(0.75)\n",
        "\n",
        "IQR = Q3 - Q1\n",
        "\n",
        "limite_inferior = Q1 - k * IQR\n",
        "limite_superior = Q3 + k * IQR\n",
        "\n",
        "df_p90p100_china = df_p90p100_china[(df_p90p100_china['Value'] >= limite_inferior) & (df_p90p100_china['Value'] <= limite_superior)]\n",
        "df_p90p100_china.shape\n"
      ],
      "metadata": {
        "colab": {
          "base_uri": "https://localhost:8080/"
        },
        "id": "2Xk_w9Qr_5I9",
        "outputId": "6f7b72cb-9944-4fac-bee7-7a7f0e5f5421"
      },
      "execution_count": 174,
      "outputs": [
        {
          "output_type": "execute_result",
          "data": {
            "text/plain": [
              "(18, 5)"
            ]
          },
          "metadata": {},
          "execution_count": 174
        }
      ]
    },
    {
      "cell_type": "markdown",
      "source": [
        "##### df_p99p100_china"
      ],
      "metadata": {
        "id": "V0f0p8TN_5I9"
      }
    },
    {
      "cell_type": "code",
      "source": [
        "Q1 = df_p99p100_china['Value'].quantile(0.25)\n",
        "Q3 = df_p99p100_china['Value'].quantile(0.75)\n",
        "\n",
        "IQR = Q3 - Q1\n",
        "\n",
        "limite_inferior = Q1 - k * IQR\n",
        "limite_superior = Q3 + k * IQR\n",
        "\n",
        "df_p99p100_china = df_p99p100_china[(df_p99p100_china['Value'] >= limite_inferior) & (df_p99p100_china['Value'] <= limite_superior)]\n",
        "df_p99p100_china.shape\n"
      ],
      "metadata": {
        "colab": {
          "base_uri": "https://localhost:8080/"
        },
        "id": "plZweo4K_5I9",
        "outputId": "9a3bd606-07e7-43a5-bd0a-abe85eefdeae"
      },
      "execution_count": 175,
      "outputs": [
        {
          "output_type": "execute_result",
          "data": {
            "text/plain": [
              "(19, 5)"
            ]
          },
          "metadata": {},
          "execution_count": 175
        }
      ]
    },
    {
      "cell_type": "markdown",
      "source": [
        "## Visualização de dados"
      ],
      "metadata": {
        "id": "l_dH-4NeFKg2"
      }
    },
    {
      "cell_type": "code",
      "source": [
        "# Modo artist layer\n",
        "\n",
        "# Criar figura e eixos com duas linhas e três colunas de subplots\n",
        "fig, axs = plt.subplots(nrows=2, ncols=3, figsize=(18, 10))\n",
        "\n",
        "# Subplot para a comparação entre Brasil, EUA e China\n",
        "axs[0, 0].plot(df_pall_brazil['Year'], df_pall_brazil['Value'], label='Brasil')\n",
        "axs[0, 0].plot(df_pall_usa['Year'], df_pall_usa['Value'], label='EUA')\n",
        "axs[0, 0].plot(df_pall_china['Year'], df_pall_china['Value'], label='China')\n",
        "axs[0, 0].set_xlabel('Ano')\n",
        "axs[0, 0].set_ylabel('Indíce')\n",
        "axs[0, 0].set_title('Comparação pall entre Brasil, EUA e China')\n",
        "axs[0, 0].legend()\n",
        "\n",
        "# Subplot para os dados p0p50 (percentile 0-50)\n",
        "axs[0, 1].plot(df_p0p50_brazil['Year'], df_p0p50_brazil['Value'], label='Brasil')\n",
        "axs[0, 1].plot(df_p0p50_usa['Year'], df_p0p50_usa['Value'], label='EUA')\n",
        "axs[0, 1].plot(df_p0p50_china['Year'], df_p0p50_china['Value'], label='China')\n",
        "axs[0, 1].set_xlabel('Ano')\n",
        "axs[0, 1].set_ylabel('Indíce')\n",
        "axs[0, 1].set_title('Comparação p0p50 entre Brasil, EUA e China')\n",
        "axs[0, 1].legend()\n",
        "\n",
        "# Subplot para os dados p50p90 (percentile 50-90)\n",
        "axs[0, 2].plot(df_p50p90_brazil['Year'], df_p50p90_brazil['Value'], label='Brasil')\n",
        "axs[0, 2].plot(df_p50p90_usa['Year'], df_p50p90_usa['Value'], label='EUA')\n",
        "axs[0, 2].plot(df_p50p90_china['Year'], df_p50p90_china['Value'], label='China')\n",
        "axs[0, 2].set_xlabel('Ano')\n",
        "axs[0, 2].set_ylabel('Indíce')\n",
        "axs[0, 2].set_title('Comparação p50p90 entre Brasil, EUA e China')\n",
        "axs[0, 2].legend()\n",
        "\n",
        "# Subplot para os dados p90p100 (percentile 90-100)\n",
        "axs[1, 0].plot(df_p90p100_brazil['Year'], df_p90p100_brazil['Value'], label='Brasil')\n",
        "axs[1, 0].plot(df_p90p100_usa['Year'], df_p90p100_usa['Value'], label='EUA')\n",
        "axs[1, 0].plot(df_p90p100_china['Year'], df_p90p100_china['Value'], label='China')\n",
        "axs[1, 0].set_xlabel('Ano')\n",
        "axs[1, 0].set_ylabel('Indíce')\n",
        "axs[1, 0].set_title('Comparação p90p100 entre Brasil, EUA e China')\n",
        "axs[1, 0].legend()\n",
        "\n",
        "# Subplot para os dados p99p100 (percentile 99-100)\n",
        "axs[1, 1].plot(df_p99p100_brazil['Year'], df_p99p100_brazil['Value'], label='Brasil')\n",
        "axs[1, 1].plot(df_p99p100_usa['Year'], df_p99p100_usa['Value'], label='EUA')\n",
        "axs[1, 1].plot(df_p99p100_china['Year'], df_p99p100_china['Value'], label='China')\n",
        "axs[1, 1].set_xlabel('Ano')\n",
        "axs[1, 1].set_ylabel('Indíce')\n",
        "axs[1, 1].set_title('Comparação p99p100 entre Brasil, EUA e China')\n",
        "axs[1, 1].legend()\n",
        "\n",
        "# Ajustar a disposição dos subplots\n",
        "plt.tight_layout()\n",
        "\n",
        "# Exibir o gráfico\n",
        "plt.show()\n"
      ],
      "metadata": {
        "id": "klPwWUrqFMNL"
      },
      "execution_count": null,
      "outputs": []
    },
    {
      "cell_type": "markdown",
      "source": [
        "## Conclusões"
      ],
      "metadata": {
        "id": "cMex-DR1CuXH"
      }
    },
    {
      "cell_type": "markdown",
      "source": [
        "### Conclusão geral"
      ],
      "metadata": {
        "id": "FKTngBQ0uPHU"
      }
    },
    {
      "cell_type": "markdown",
      "source": [
        "#### Indicadores Pall P90p100 e P99p100\n",
        "**Pall**: Indica o grau de concentração de renda nas mãos dos mais ricos. <br>\n",
        "**P90p100**: Indica a parcela da renda que está concentrada nos estratos superiores da população. <br>\n",
        "**P99p100**: Indica o grau de concentração extrema de renda nas mãos de uma pequena parcela da população. <br> <br>\n",
        "O Brasil possui um alto indíce dessdes indicadores em comparação aos EUA e a China, porém está em ritmo desacelerado em comparação ao ano 2000, queda em valores absolutos.\n",
        "<br>\n",
        "Eua e China possuem índices menos, porém com um aumento nos valores absolutos.\n",
        "<br>\n",
        "\n",
        "#### Indicadores P0p50 e P50p90\n",
        "**P0p50**: Indica a fatia da renda que é destinada aos 50% mais pobres. <br>\n",
        "**P50p90**: Indica a distribuição de renda entre a classe média. <br> <br>\n",
        "Nota-se que, em valores absolutos, Os EUA e a China estão em queda e o Brasil apresentou um aumento.\n",
        "É importante ressaltar que o Brasil possui valores bem menores para esses índices.\n",
        "\n",
        "\n",
        "\n"
      ],
      "metadata": {
        "id": "YhQ2V7d4vd-_"
      }
    },
    {
      "cell_type": "markdown",
      "source": [
        "### Conclusão Covid-19"
      ],
      "metadata": {
        "id": "p-J8l6AkzaCr"
      }
    },
    {
      "cell_type": "markdown",
      "source": [
        "#### Indicador pall\n",
        "Durante a pandemia do Covid-19 o Brasil juntamente com os EUA apresentaram uma elevação do índice, maior concentração de renda nas mãos dos mais ricos. Já a China, nesse mesmo período, fechou em queda.\n",
        "\n",
        "#### Indicador P0p50\n",
        "Durante a pandemia do Covid-19 Os Eua e a China apresentaram queda do índice, diminuição da fatia da renda que é destinada aos 50% mais pobres. Já o Brasil apresentou aumento crescimento dessa fatia.\n",
        "\n",
        "#### Indicador p50p90\n",
        "Duarnte a pandemia do Covid-19 a China e o Brasil apresentaram queda do índice, mostrando que a distribuição de renda entre a classe média diminuiu. já os EUA apresentaram um leve aumento no começo da pandemia mas finalizou em queda.\n",
        "\n",
        "#### Indicador p90p100\n",
        "Duarente a pandemia do Covid-19 a China e os Brasil apresentaram aumento, a parcela da renda que está concentrada nos estratos superiores da população aumentou.já os EUA apresentaram uma diminuição do índice.\n",
        "\n",
        "#### Indicador p99p100\n",
        "Os três países apresentam aumento nesse período de pandemia, indicanado que o grau de concentração extrema de renda nas mãos de uma pequena parcela da população aumentou."
      ],
      "metadata": {
        "id": "rK5EoEGKzcdr"
      }
    },
    {
      "cell_type": "markdown",
      "source": [
        "## Machine learning"
      ],
      "metadata": {
        "id": "XuTl74HrvEUC"
      }
    },
    {
      "cell_type": "code",
      "source": [
        "import numpy as np\n",
        "import matplotlib.pyplot as plt\n",
        "from sklearn.linear_model import LinearRegression\n",
        "\n",
        "# Dados DataFrame\n",
        "years = df_p0p50_brazil['Year'].values.reshape(-1, 1)\n",
        "values = df_p0p50_brazil['Value'].values\n",
        "\n",
        "# Criar um objeto do modelo\n",
        "regression = LinearRegression()\n",
        "\n",
        "# Treinar modelo\n",
        "regression.fit(years, values)\n",
        "\n",
        "# Criar um array com a próxima geração (25 anos)\n",
        "future_years = np.arange(2022, 2047).reshape(-1, 1)\n",
        "\n",
        "# Predição para a próxima geração(25 anos)\n",
        "predicted_values = regression.predict(future_years)\n",
        "\n",
        "# Plotar o gráfico com os dados existentes\n",
        "plt.plot(years, values, label='Base de dados')\n",
        "\n",
        "# Plotar o gráfico com a predição futura\n",
        "plt.plot(future_years, predicted_values, label='Predição Futura')\n",
        "\n",
        "# Definir os rótulos dos eixos\n",
        "plt.xlabel('Ano')\n",
        "plt.ylabel('Valor')\n",
        "\n",
        "# Definir o título do gráfico\n",
        "plt.title('Predição índice P0p50 Brasil')\n",
        "\n",
        "# Adicionar uma legenda\n",
        "plt.legend()\n",
        "\n",
        "# Exibir o gráfico\n",
        "plt.show()\n"
      ],
      "metadata": {
        "colab": {
          "base_uri": "https://localhost:8080/",
          "height": 472
        },
        "id": "VOD8h6ztBqi1",
        "outputId": "edba8685-0141-4466-d65f-953983a9b267"
      },
      "execution_count": 184,
      "outputs": [
        {
          "output_type": "display_data",
          "data": {
            "text/plain": [
              "<Figure size 640x480 with 1 Axes>"
            ],
            "image/png": "[encoded data removed]"
          },
          "metadata": {}
        }
      ]
    }
  ]
}